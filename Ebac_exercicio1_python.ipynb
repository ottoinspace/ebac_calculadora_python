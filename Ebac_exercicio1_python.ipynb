{
  "nbformat": 4,
  "nbformat_minor": 0,
  "metadata": {
    "colab": {
      "provenance": [],
      "authorship_tag": "ABX9TyPY91+1TC3aH+nScyk3wBxf",
      "include_colab_link": true
    },
    "kernelspec": {
      "name": "python3",
      "display_name": "Python 3"
    },
    "language_info": {
      "name": "python"
    }
  },
  "cells": [
    {
      "cell_type": "markdown",
      "metadata": {
        "id": "view-in-github",
        "colab_type": "text"
      },
      "source": [
        "<a href=\"https://colab.research.google.com/github/ottoinspace/ebac_calculadora_python/blob/main/Ebac_exercicio1_python.ipynb\" target=\"_parent\"><img src=\"https://colab.research.google.com/assets/colab-badge.svg\" alt=\"Open In Colab\"/></a>"
      ]
    },
    {
      "cell_type": "code",
      "execution_count": 3,
      "metadata": {
        "colab": {
          "base_uri": "https://localhost:8080/"
        },
        "id": "zj3EwZQ0S9PR",
        "outputId": "f0b5d491-f38b-48fe-dc85-a27237ba21cc"
      },
      "outputs": [
        {
          "output_type": "stream",
          "name": "stdout",
          "text": [
            "Digite o valor de a: 2\n",
            "Digite o valor de b: 4\n",
            "Escolha uma operacao:  [a]soma [b]subtracao [c]multiplicacao [d]divisao [e]potencia [f]raiz [g]resto da divisao\n",
            ">>f\n",
            "1.189207115002721\n"
          ]
        }
      ],
      "source": [
        "a = float(input('Digite o valor de a: '))\n",
        "b = float(input('Digite o valor de b: '))\n",
        "\n",
        "def soma(a, b):\n",
        "  c = a + b\n",
        "  return c\n",
        "\n",
        "def subtracao(a, b):\n",
        "  c = a - b\n",
        "  return c\n",
        "\n",
        "def multiplicacao(a, b):\n",
        "  c = a * b\n",
        "  return c\n",
        "\n",
        "def divisao(a, b):\n",
        "  c = a / b\n",
        "  return c\n",
        "\n",
        "def potencia(a, b):\n",
        "  c = a ** b\n",
        "  return c\n",
        "\n",
        "def raiz(a, b):\n",
        "  c = a ** (1/b)\n",
        "  return c\n",
        "\n",
        "def resto_divisao(a, b):\n",
        "  c = a % b\n",
        "  return c\n",
        "\n",
        "print('Escolha uma operacao:  [a]soma [b]subtracao [c]multiplicacao [d]divisao [e]potencia [f]raiz [g]resto da divisao')\n",
        "option = input('>>')\n",
        "\n",
        "if option == 'a':\n",
        "  print(soma(a, b))\n",
        "elif option == 'b':\n",
        "  print(subtracao(a, b))\n",
        "elif option == 'c':\n",
        "  print(multiplicacao(a, b))\n",
        "elif option == 'd':\n",
        "  print(divisao(a, b))\n",
        "elif option == 'e':\n",
        "  print(potencia(a, b))\n",
        "elif option == 'f':\n",
        "  print(raiz(a, b))\n",
        "elif option == 'g':\n",
        "  print(resto_divisao(a, b))\n",
        "else:\n",
        "  print('Comando invalido!!!!')"
      ]
    }
  ]
}